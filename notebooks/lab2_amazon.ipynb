{
 "cells": [
  {
   "cell_type": "markdown",
   "metadata": {},
   "source": [
    "# Lab 2 - Amazon Stock Price Prediction\n",
    "\n",
    "### Instruction\n",
    "1. Try at least 3 different ML algorithms (e.g. linear regression, decision tree, random forest, etc.).\n",
    "2. Do hyperparameter tuning for **each** algorithm.\n",
    "3. Do some very basic feature selection, and repeat the above steps with these reduced sets of features.\n",
    "4. Identify the top 3 best models and note these down for later.\n",
    "6. Choose the **final** \"best\" model that you would deploy or use on future data, stage it (in MLFlow), and run it on the test set to get a final measure of performance. Don't forget to log the test set metric.\n",
    "7. Be sure you logged the exact training, validation, and testing datasets for the 3 best models, as well as hyperparameter values, and the values of your metrics.  \n",
    "8. Push your code to Github. No need to track the mlruns folder, the images folder, any datasets, or the sqlite database in git."
   ]
  },
  {
   "cell_type": "code",
   "execution_count": 1,
   "metadata": {},
   "outputs": [],
   "source": [
    "import mlflow\n",
    "import pandas as pd\n",
    "import matplotlib.pyplot as plt\n",
    "from sklearn.model_selection import train_test_split\n",
    "from sklearn.linear_model import LogisticRegression\n",
    "from mlflow.models.signature import infer_signature\n",
    "import xgboost as xgb\n",
    "from sklearn.ensemble import RandomForestClassifier\n",
    "from sklearn.metrics import accuracy_score"
   ]
  },
  {
   "cell_type": "code",
   "execution_count": 2,
   "metadata": {},
   "outputs": [],
   "source": [
    "import warnings\n",
    "warnings.filterwarnings(\"ignore\", category=UserWarning, module=\"_distutils_hack\")\n",
    "warnings.filterwarnings(\"ignore\", category=UserWarning, module=\"setuptools\")\n"
   ]
  },
  {
   "cell_type": "code",
   "execution_count": 3,
   "metadata": {},
   "outputs": [
    {
     "data": {
      "text/plain": [
       "<Experiment: artifact_location='/Users/zoe/Desktop/SpringII/mlops_lab/notebooks/mlruns/4', creation_time=1742535697738, experiment_id='4', last_update_time=1742535697738, lifecycle_stage='active', name='Amazon_stock_analysis', tags={}>"
      ]
     },
     "execution_count": 3,
     "metadata": {},
     "output_type": "execute_result"
    }
   ],
   "source": [
    "mlflow.set_tracking_uri('sqlite:///mlflow.db')\n",
    "mlflow.set_experiment('Amazon_stock_analysis')"
   ]
  },
  {
   "cell_type": "markdown",
   "metadata": {},
   "source": [
    "## Data Cleaning"
   ]
  },
  {
   "cell_type": "code",
   "execution_count": 4,
   "metadata": {},
   "outputs": [
    {
     "name": "stderr",
     "output_type": "stream",
     "text": [
      "/var/folders/3s/qd33d245233cg7w4zh7sbbfm0000gn/T/ipykernel_51360/1035344584.py:2: FutureWarning: In a future version of pandas, parsing datetimes with mixed time zones will raise an error unless `utc=True`. Please specify `utc=True` to opt in to the new behaviour and silence this warning. To create a `Series` with mixed offsets and `object` dtype, please use `apply` and `datetime.datetime.strptime`\n",
      "  data['date'] = pd.to_datetime(data['date'])\n"
     ]
    },
    {
     "data": {
      "text/html": [
       "<div>\n",
       "<style scoped>\n",
       "    .dataframe tbody tr th:only-of-type {\n",
       "        vertical-align: middle;\n",
       "    }\n",
       "\n",
       "    .dataframe tbody tr th {\n",
       "        vertical-align: top;\n",
       "    }\n",
       "\n",
       "    .dataframe thead th {\n",
       "        text-align: right;\n",
       "    }\n",
       "</style>\n",
       "<table border=\"1\" class=\"dataframe\">\n",
       "  <thead>\n",
       "    <tr style=\"text-align: right;\">\n",
       "      <th></th>\n",
       "      <th>open</th>\n",
       "      <th>high</th>\n",
       "      <th>low</th>\n",
       "      <th>close</th>\n",
       "      <th>adj_close</th>\n",
       "      <th>volume</th>\n",
       "    </tr>\n",
       "    <tr>\n",
       "      <th>date</th>\n",
       "      <th></th>\n",
       "      <th></th>\n",
       "      <th></th>\n",
       "      <th></th>\n",
       "      <th></th>\n",
       "      <th></th>\n",
       "    </tr>\n",
       "  </thead>\n",
       "  <tbody>\n",
       "    <tr>\n",
       "      <th>2000-01-03 00:00:00-05:00</th>\n",
       "      <td>4.075000</td>\n",
       "      <td>4.478125</td>\n",
       "      <td>3.952344</td>\n",
       "      <td>4.468750</td>\n",
       "      <td>4.468750</td>\n",
       "      <td>322352000</td>\n",
       "    </tr>\n",
       "    <tr>\n",
       "      <th>2000-01-04 00:00:00-05:00</th>\n",
       "      <td>4.268750</td>\n",
       "      <td>4.575000</td>\n",
       "      <td>4.087500</td>\n",
       "      <td>4.096875</td>\n",
       "      <td>4.096875</td>\n",
       "      <td>349748000</td>\n",
       "    </tr>\n",
       "    <tr>\n",
       "      <th>2000-01-05 00:00:00-05:00</th>\n",
       "      <td>3.525000</td>\n",
       "      <td>3.756250</td>\n",
       "      <td>3.400000</td>\n",
       "      <td>3.487500</td>\n",
       "      <td>3.487500</td>\n",
       "      <td>769148000</td>\n",
       "    </tr>\n",
       "    <tr>\n",
       "      <th>2000-01-06 00:00:00-05:00</th>\n",
       "      <td>3.565625</td>\n",
       "      <td>3.634375</td>\n",
       "      <td>3.200000</td>\n",
       "      <td>3.278125</td>\n",
       "      <td>3.278125</td>\n",
       "      <td>375040000</td>\n",
       "    </tr>\n",
       "    <tr>\n",
       "      <th>2000-01-07 00:00:00-05:00</th>\n",
       "      <td>3.350000</td>\n",
       "      <td>3.525000</td>\n",
       "      <td>3.309375</td>\n",
       "      <td>3.478125</td>\n",
       "      <td>3.478125</td>\n",
       "      <td>210108000</td>\n",
       "    </tr>\n",
       "  </tbody>\n",
       "</table>\n",
       "</div>"
      ],
      "text/plain": [
       "                               open      high       low     close  adj_close  \\\n",
       "date                                                                           \n",
       "2000-01-03 00:00:00-05:00  4.075000  4.478125  3.952344  4.468750   4.468750   \n",
       "2000-01-04 00:00:00-05:00  4.268750  4.575000  4.087500  4.096875   4.096875   \n",
       "2000-01-05 00:00:00-05:00  3.525000  3.756250  3.400000  3.487500   3.487500   \n",
       "2000-01-06 00:00:00-05:00  3.565625  3.634375  3.200000  3.278125   3.278125   \n",
       "2000-01-07 00:00:00-05:00  3.350000  3.525000  3.309375  3.478125   3.478125   \n",
       "\n",
       "                              volume  \n",
       "date                                  \n",
       "2000-01-03 00:00:00-05:00  322352000  \n",
       "2000-01-04 00:00:00-05:00  349748000  \n",
       "2000-01-05 00:00:00-05:00  769148000  \n",
       "2000-01-06 00:00:00-05:00  375040000  \n",
       "2000-01-07 00:00:00-05:00  210108000  "
      ]
     },
     "execution_count": 4,
     "metadata": {},
     "output_type": "execute_result"
    }
   ],
   "source": [
    "data = pd.read_csv('../data/Amazon_stock_data_2000_2025.csv')\n",
    "data['date'] = pd.to_datetime(data['date'])\n",
    "data.set_index('date', inplace=True)\n",
    "data.head()"
   ]
  },
  {
   "cell_type": "code",
   "execution_count": 5,
   "metadata": {},
   "outputs": [
    {
     "name": "stdout",
     "output_type": "stream",
     "text": [
      "<class 'pandas.core.frame.DataFrame'>\n",
      "Index: 6321 entries, 2000-01-03 00:00:00-05:00 to 2025-02-19 00:00:00-05:00\n",
      "Data columns (total 6 columns):\n",
      " #   Column     Non-Null Count  Dtype  \n",
      "---  ------     --------------  -----  \n",
      " 0   open       6321 non-null   float64\n",
      " 1   high       6321 non-null   float64\n",
      " 2   low        6321 non-null   float64\n",
      " 3   close      6321 non-null   float64\n",
      " 4   adj_close  6321 non-null   float64\n",
      " 5   volume     6321 non-null   int64  \n",
      "dtypes: float64(5), int64(1)\n",
      "memory usage: 345.7+ KB\n"
     ]
    }
   ],
   "source": [
    "data.info()"
   ]
  },
  {
   "cell_type": "code",
   "execution_count": 6,
   "metadata": {},
   "outputs": [
    {
     "data": {
      "text/plain": [
       "open         0\n",
       "high         0\n",
       "low          0\n",
       "close        0\n",
       "adj_close    0\n",
       "volume       0\n",
       "dtype: int64"
      ]
     },
     "execution_count": 6,
     "metadata": {},
     "output_type": "execute_result"
    }
   ],
   "source": [
    "data.isnull().sum()"
   ]
  },
  {
   "cell_type": "code",
   "execution_count": 7,
   "metadata": {},
   "outputs": [
    {
     "data": {
      "image/png": "[encoded data removed]",
      "text/plain": [
       "<Figure size 1200x600 with 1 Axes>"
      ]
     },
     "metadata": {},
     "output_type": "display_data"
    }
   ],
   "source": [
    "# Plot stock closing price over time\n",
    "plt.figure(figsize=(12, 6))\n",
    "plt.plot(data.index, data['close'], label=\"Closing Price\", color='blue')\n",
    "plt.xlabel(\"Year\")\n",
    "plt.ylabel(\"Stock Price (Close)\")\n",
    "plt.title(\"Amazon Stock Closing Price Over Time\")\n",
    "plt.legend()\n",
    "plt.grid(True)\n",
    "plt.show()"
   ]
  },
  {
   "cell_type": "code",
   "execution_count": 8,
   "metadata": {},
   "outputs": [
    {
     "data": {
      "image/png": "[encoded data removed]",
      "text/plain": [
       "<Figure size 1200x600 with 1 Axes>"
      ]
     },
     "metadata": {},
     "output_type": "display_data"
    }
   ],
   "source": [
    "# Plot stock volume over time\n",
    "plt.figure(figsize=(12, 6))\n",
    "plt.plot(data.index, data['volume'], label=\"Trading Volume\", color='red')\n",
    "plt.xlabel(\"Year\")\n",
    "plt.ylabel(\"Volume\")\n",
    "plt.title(\"Amazon Stock Trading Volume Over Time\")\n",
    "plt.legend()\n",
    "plt.grid(True)\n",
    "plt.show()"
   ]
  },
  {
   "cell_type": "markdown",
   "metadata": {},
   "source": [
    "## Classify price movement"
   ]
  },
  {
   "cell_type": "code",
   "execution_count": 9,
   "metadata": {},
   "outputs": [],
   "source": [
    "# Create binary classification target (1 = Price Up, 0 = Price Down)\n",
    "data[\"price_movement\"] = (data[\"close\"].shift(-1) > data[\"close\"]).astype(int)\n",
    "\n",
    "# Feature Engineering\n",
    "data[\"price_change\"] = data[\"close\"] - data[\"open\"]\n",
    "data[\"diff\"] = data[\"high\"] - data[\"low\"]\n",
    "data[\"close_7_avg\"] = data[\"close\"].rolling(window=7).mean()\n",
    "data[\"close_14_avg\"] = data[\"close\"].rolling(window=14).mean()\n",
    "\n",
    "# Drop all null values\n",
    "data.dropna(inplace=True)\n"
   ]
  },
  {
   "cell_type": "code",
   "execution_count": 10,
   "metadata": {},
   "outputs": [
    {
     "data": {
      "text/html": [
       "<div>\n",
       "<style scoped>\n",
       "    .dataframe tbody tr th:only-of-type {\n",
       "        vertical-align: middle;\n",
       "    }\n",
       "\n",
       "    .dataframe tbody tr th {\n",
       "        vertical-align: top;\n",
       "    }\n",
       "\n",
       "    .dataframe thead th {\n",
       "        text-align: right;\n",
       "    }\n",
       "</style>\n",
       "<table border=\"1\" class=\"dataframe\">\n",
       "  <thead>\n",
       "    <tr style=\"text-align: right;\">\n",
       "      <th></th>\n",
       "      <th>open</th>\n",
       "      <th>high</th>\n",
       "      <th>low</th>\n",
       "      <th>close</th>\n",
       "      <th>adj_close</th>\n",
       "      <th>volume</th>\n",
       "      <th>price_movement</th>\n",
       "      <th>price_change</th>\n",
       "      <th>diff</th>\n",
       "      <th>close_7_avg</th>\n",
       "      <th>close_14_avg</th>\n",
       "    </tr>\n",
       "    <tr>\n",
       "      <th>date</th>\n",
       "      <th></th>\n",
       "      <th></th>\n",
       "      <th></th>\n",
       "      <th></th>\n",
       "      <th></th>\n",
       "      <th></th>\n",
       "      <th></th>\n",
       "      <th></th>\n",
       "      <th></th>\n",
       "      <th></th>\n",
       "      <th></th>\n",
       "    </tr>\n",
       "  </thead>\n",
       "  <tbody>\n",
       "    <tr>\n",
       "      <th>2000-01-21 00:00:00-05:00</th>\n",
       "      <td>3.231250</td>\n",
       "      <td>3.23125</td>\n",
       "      <td>3.00000</td>\n",
       "      <td>3.103125</td>\n",
       "      <td>3.103125</td>\n",
       "      <td>229238000</td>\n",
       "      <td>1</td>\n",
       "      <td>-0.128125</td>\n",
       "      <td>0.23125</td>\n",
       "      <td>3.225000</td>\n",
       "      <td>3.441518</td>\n",
       "    </tr>\n",
       "    <tr>\n",
       "      <th>2000-01-24 00:00:00-05:00</th>\n",
       "      <td>3.378125</td>\n",
       "      <td>3.66875</td>\n",
       "      <td>3.37500</td>\n",
       "      <td>3.506250</td>\n",
       "      <td>3.506250</td>\n",
       "      <td>583404000</td>\n",
       "      <td>0</td>\n",
       "      <td>0.128125</td>\n",
       "      <td>0.29375</td>\n",
       "      <td>3.271875</td>\n",
       "      <td>3.372768</td>\n",
       "    </tr>\n",
       "    <tr>\n",
       "      <th>2000-01-25 00:00:00-05:00</th>\n",
       "      <td>3.500000</td>\n",
       "      <td>3.56250</td>\n",
       "      <td>3.30000</td>\n",
       "      <td>3.462500</td>\n",
       "      <td>3.462500</td>\n",
       "      <td>188682000</td>\n",
       "      <td>0</td>\n",
       "      <td>-0.037500</td>\n",
       "      <td>0.26250</td>\n",
       "      <td>3.295536</td>\n",
       "      <td>3.327455</td>\n",
       "    </tr>\n",
       "    <tr>\n",
       "      <th>2000-01-26 00:00:00-05:00</th>\n",
       "      <td>3.431250</td>\n",
       "      <td>3.50000</td>\n",
       "      <td>3.23750</td>\n",
       "      <td>3.240625</td>\n",
       "      <td>3.240625</td>\n",
       "      <td>131160000</td>\n",
       "      <td>1</td>\n",
       "      <td>-0.190625</td>\n",
       "      <td>0.26250</td>\n",
       "      <td>3.299554</td>\n",
       "      <td>3.309821</td>\n",
       "    </tr>\n",
       "    <tr>\n",
       "      <th>2000-01-27 00:00:00-05:00</th>\n",
       "      <td>3.259375</td>\n",
       "      <td>3.38750</td>\n",
       "      <td>3.23125</td>\n",
       "      <td>3.346875</td>\n",
       "      <td>3.346875</td>\n",
       "      <td>135680000</td>\n",
       "      <td>0</td>\n",
       "      <td>0.087500</td>\n",
       "      <td>0.15625</td>\n",
       "      <td>3.319643</td>\n",
       "      <td>3.314732</td>\n",
       "    </tr>\n",
       "  </tbody>\n",
       "</table>\n",
       "</div>"
      ],
      "text/plain": [
       "                               open     high      low     close  adj_close  \\\n",
       "date                                                                         \n",
       "2000-01-21 00:00:00-05:00  3.231250  3.23125  3.00000  3.103125   3.103125   \n",
       "2000-01-24 00:00:00-05:00  3.378125  3.66875  3.37500  3.506250   3.506250   \n",
       "2000-01-25 00:00:00-05:00  3.500000  3.56250  3.30000  3.462500   3.462500   \n",
       "2000-01-26 00:00:00-05:00  3.431250  3.50000  3.23750  3.240625   3.240625   \n",
       "2000-01-27 00:00:00-05:00  3.259375  3.38750  3.23125  3.346875   3.346875   \n",
       "\n",
       "                              volume  price_movement  price_change     diff  \\\n",
       "date                                                                          \n",
       "2000-01-21 00:00:00-05:00  229238000               1     -0.128125  0.23125   \n",
       "2000-01-24 00:00:00-05:00  583404000               0      0.128125  0.29375   \n",
       "2000-01-25 00:00:00-05:00  188682000               0     -0.037500  0.26250   \n",
       "2000-01-26 00:00:00-05:00  131160000               1     -0.190625  0.26250   \n",
       "2000-01-27 00:00:00-05:00  135680000               0      0.087500  0.15625   \n",
       "\n",
       "                           close_7_avg  close_14_avg  \n",
       "date                                                  \n",
       "2000-01-21 00:00:00-05:00     3.225000      3.441518  \n",
       "2000-01-24 00:00:00-05:00     3.271875      3.372768  \n",
       "2000-01-25 00:00:00-05:00     3.295536      3.327455  \n",
       "2000-01-26 00:00:00-05:00     3.299554      3.309821  \n",
       "2000-01-27 00:00:00-05:00     3.319643      3.314732  "
      ]
     },
     "execution_count": 10,
     "metadata": {},
     "output_type": "execute_result"
    }
   ],
   "source": [
    "data.head()"
   ]
  },
  {
   "cell_type": "code",
   "execution_count": 11,
   "metadata": {},
   "outputs": [],
   "source": [
    "# Define features and target\n",
    "X = data[[\"open\", \"high\", \"low\", \"close\", \"adj_close\", \"volume\", \"price_change\", \"diff\", \"close_7_avg\", \"close_14_avg\"]]\n",
    "y = data[\"price_movement\"]"
   ]
  },
  {
   "cell_type": "markdown",
   "metadata": {},
   "source": [
    "## Train_ test split"
   ]
  },
  {
   "cell_type": "code",
   "execution_count": 12,
   "metadata": {},
   "outputs": [],
   "source": [
    "X_train, X_test, y_train, y_test = train_test_split(X, y, test_size=0.2, random_state=42)"
   ]
  },
  {
   "cell_type": "markdown",
   "metadata": {},
   "source": [
    "## Logistic Regression"
   ]
  },
  {
   "cell_type": "code",
   "execution_count": 13,
   "metadata": {},
   "outputs": [
    {
     "name": "stderr",
     "output_type": "stream",
     "text": [
      "2025/03/21 10:20:31 WARNING mlflow.models.model: Input example should be provided to infer model signature if the model signature is not provided when logging the model.\n"
     ]
    }
   ],
   "source": [
    "with mlflow.start_run():\n",
    "    \n",
    "    # Train Logistic Regression Model\n",
    "    model = LogisticRegression()\n",
    "    model.fit(X_train, y_train)\n",
    "    \n",
    "    # Make Predictions\n",
    "    y_pred = model.predict(X_test)\n",
    "\n",
    "    # Evaluate Accuracy\n",
    "    accuracy = accuracy_score(y_test, y_pred)\n",
    "\n",
    "    # Log Parameters\n",
    "    mlflow.log_param(\"model_type\", \"Logistic Regression\")\n",
    "    mlflow.log_param(\"features\", \", \".join(X_train.columns))\n",
    "\n",
    "    # Log Metrics\n",
    "    mlflow.log_metric(\"accuracy\", accuracy)\n",
    "\n",
    "    # Log Model\n",
    "    mlflow.sklearn.log_model(model, \"logistic_regression_model\")\n",
    "mlflow.end_run()\n"
   ]
  },
  {
   "cell_type": "code",
   "execution_count": 14,
   "metadata": {},
   "outputs": [
    {
     "name": "stderr",
     "output_type": "stream",
     "text": [
      "/opt/anaconda3/envs/mlops/lib/python3.9/site-packages/mlflow/types/utils.py:406: UserWarning: Hint: Inferred schema contains integer column(s). Integer columns in Python cannot represent missing values. If your input data contains missing values at inference time, it will be encoded as floats and will cause a schema enforcement error. The best way to avoid this problem is to infer the model schema based on a realistic data sample (training dataset) that includes missing values. Alternatively, you can declare integer columns as doubles (float64) whenever these columns may have missing values. See `Handling Integers With Missing Values <https://www.mlflow.org/docs/latest/models.html#handling-integers-with-missing-values>`_ for more details.\n",
      "  warnings.warn(\n",
      "/opt/anaconda3/envs/mlops/lib/python3.9/site-packages/mlflow/types/utils.py:406: UserWarning: Hint: Inferred schema contains integer column(s). Integer columns in Python cannot represent missing values. If your input data contains missing values at inference time, it will be encoded as floats and will cause a schema enforcement error. The best way to avoid this problem is to infer the model schema based on a realistic data sample (training dataset) that includes missing values. Alternatively, you can declare integer columns as doubles (float64) whenever these columns may have missing values. See `Handling Integers With Missing Values <https://www.mlflow.org/docs/latest/models.html#handling-integers-with-missing-values>`_ for more details.\n",
      "  warnings.warn(\n",
      "/opt/anaconda3/envs/mlops/lib/python3.9/site-packages/mlflow/types/utils.py:406: UserWarning: Hint: Inferred schema contains integer column(s). Integer columns in Python cannot represent missing values. If your input data contains missing values at inference time, it will be encoded as floats and will cause a schema enforcement error. The best way to avoid this problem is to infer the model schema based on a realistic data sample (training dataset) that includes missing values. Alternatively, you can declare integer columns as doubles (float64) whenever these columns may have missing values. See `Handling Integers With Missing Values <https://www.mlflow.org/docs/latest/models.html#handling-integers-with-missing-values>`_ for more details.\n",
      "  warnings.warn(\n",
      "/opt/anaconda3/envs/mlops/lib/python3.9/site-packages/mlflow/types/utils.py:406: UserWarning: Hint: Inferred schema contains integer column(s). Integer columns in Python cannot represent missing values. If your input data contains missing values at inference time, it will be encoded as floats and will cause a schema enforcement error. The best way to avoid this problem is to infer the model schema based on a realistic data sample (training dataset) that includes missing values. Alternatively, you can declare integer columns as doubles (float64) whenever these columns may have missing values. See `Handling Integers With Missing Values <https://www.mlflow.org/docs/latest/models.html#handling-integers-with-missing-values>`_ for more details.\n",
      "  warnings.warn(\n",
      "/opt/anaconda3/envs/mlops/lib/python3.9/site-packages/mlflow/types/utils.py:406: UserWarning: Hint: Inferred schema contains integer column(s). Integer columns in Python cannot represent missing values. If your input data contains missing values at inference time, it will be encoded as floats and will cause a schema enforcement error. The best way to avoid this problem is to infer the model schema based on a realistic data sample (training dataset) that includes missing values. Alternatively, you can declare integer columns as doubles (float64) whenever these columns may have missing values. See `Handling Integers With Missing Values <https://www.mlflow.org/docs/latest/models.html#handling-integers-with-missing-values>`_ for more details.\n",
      "  warnings.warn(\n",
      "/opt/anaconda3/envs/mlops/lib/python3.9/site-packages/mlflow/types/utils.py:406: UserWarning: Hint: Inferred schema contains integer column(s). Integer columns in Python cannot represent missing values. If your input data contains missing values at inference time, it will be encoded as floats and will cause a schema enforcement error. The best way to avoid this problem is to infer the model schema based on a realistic data sample (training dataset) that includes missing values. Alternatively, you can declare integer columns as doubles (float64) whenever these columns may have missing values. See `Handling Integers With Missing Values <https://www.mlflow.org/docs/latest/models.html#handling-integers-with-missing-values>`_ for more details.\n",
      "  warnings.warn(\n"
     ]
    },
    {
     "name": "stdout",
     "output_type": "stream",
     "text": [
      "\n",
      "Best C: 0.001 with Accuracy: 0.5071\n"
     ]
    }
   ],
   "source": [
    "# Hyperparameter Tunning\n",
    "\n",
    "best_logistic_model = None\n",
    "best_c = None\n",
    "best_logistic_accuracy = 0\n",
    "\n",
    "C_val = [0.001, 0.01, 0.1, 1, 10, 100]\n",
    "\n",
    "for c in C_val:\n",
    "    with mlflow.start_run():\n",
    "    \n",
    "        # Train Logistic Regression Model\n",
    "        model = LogisticRegression(C=c, solver='lbfgs', max_iter=1000)\n",
    "        model.fit(X_train, y_train)\n",
    "        \n",
    "        # Make Predictions\n",
    "        y_pred = model.predict(X_test)\n",
    "\n",
    "        # Evaluate Accuracy\n",
    "        accuracy = accuracy_score(y_test, y_pred)\n",
    "\n",
    "        # Log Parameters\n",
    "        mlflow.log_param(\"model_type\", \"Logistic Regression\")\n",
    "        mlflow.log_param(\"C\", c)\n",
    "        mlflow.log_param(\"features\", \", \".join(X_train.columns))\n",
    "\n",
    "        # Log Metrics\n",
    "        mlflow.log_metric(\"accuracy\", accuracy)\n",
    "        \n",
    "        # Log Model with signature\n",
    "        input_example = X_test.iloc[:5]\n",
    "        signature = infer_signature(input_example, model.predict(input_example))\n",
    "\n",
    "        # Log Model\n",
    "        mlflow.sklearn.log_model(\n",
    "            sk_model=model, \n",
    "            artifact_path=\"logistic_regression_model\", \n",
    "            input_example=input_example,\n",
    "            signature=signature\n",
    "        )\n",
    "        \n",
    "        if accuracy > best_logistic_accuracy:\n",
    "            best_logistic_accuracy = accuracy\n",
    "            best_logistic_model = model\n",
    "            best_C = c\n",
    "            \n",
    "    mlflow.end_run()\n",
    "\n",
    "print(f\"\\nBest C: {best_C} with Accuracy: {best_logistic_accuracy:.4f}\")"
   ]
  },
  {
   "cell_type": "markdown",
   "metadata": {},
   "source": [
    "## XGBoost"
   ]
  },
  {
   "cell_type": "code",
   "execution_count": 15,
   "metadata": {},
   "outputs": [
    {
     "name": "stderr",
     "output_type": "stream",
     "text": [
      "/opt/anaconda3/envs/mlops/lib/python3.9/site-packages/xgboost/core.py:158: UserWarning: [10:20:35] WARNING: /Users/runner/work/xgboost/xgboost/src/learner.cc:740: \n",
      "Parameters: { \"use_label_encoder\" } are not used.\n",
      "\n",
      "  warnings.warn(smsg, UserWarning)\n",
      "/opt/anaconda3/envs/mlops/lib/python3.9/site-packages/mlflow/types/utils.py:406: UserWarning: Hint: Inferred schema contains integer column(s). Integer columns in Python cannot represent missing values. If your input data contains missing values at inference time, it will be encoded as floats and will cause a schema enforcement error. The best way to avoid this problem is to infer the model schema based on a realistic data sample (training dataset) that includes missing values. Alternatively, you can declare integer columns as doubles (float64) whenever these columns may have missing values. See `Handling Integers With Missing Values <https://www.mlflow.org/docs/latest/models.html#handling-integers-with-missing-values>`_ for more details.\n",
      "  warnings.warn(\n",
      "/opt/anaconda3/envs/mlops/lib/python3.9/site-packages/xgboost/core.py:158: UserWarning: [10:20:36] WARNING: /Users/runner/work/xgboost/xgboost/src/c_api/c_api.cc:1374: Saving model in the UBJSON format as default.  You can use file extension: `json`, `ubj` or `deprecated` to choose between formats.\n",
      "  warnings.warn(smsg, UserWarning)\n",
      "/opt/anaconda3/envs/mlops/lib/python3.9/site-packages/xgboost/core.py:158: UserWarning: [10:20:36] WARNING: /Users/runner/work/xgboost/xgboost/src/learner.cc:740: \n",
      "Parameters: { \"use_label_encoder\" } are not used.\n",
      "\n",
      "  warnings.warn(smsg, UserWarning)\n",
      "/opt/anaconda3/envs/mlops/lib/python3.9/site-packages/mlflow/types/utils.py:406: UserWarning: Hint: Inferred schema contains integer column(s). Integer columns in Python cannot represent missing values. If your input data contains missing values at inference time, it will be encoded as floats and will cause a schema enforcement error. The best way to avoid this problem is to infer the model schema based on a realistic data sample (training dataset) that includes missing values. Alternatively, you can declare integer columns as doubles (float64) whenever these columns may have missing values. See `Handling Integers With Missing Values <https://www.mlflow.org/docs/latest/models.html#handling-integers-with-missing-values>`_ for more details.\n",
      "  warnings.warn(\n",
      "/opt/anaconda3/envs/mlops/lib/python3.9/site-packages/xgboost/core.py:158: UserWarning: [10:20:36] WARNING: /Users/runner/work/xgboost/xgboost/src/c_api/c_api.cc:1374: Saving model in the UBJSON format as default.  You can use file extension: `json`, `ubj` or `deprecated` to choose between formats.\n",
      "  warnings.warn(smsg, UserWarning)\n",
      "/opt/anaconda3/envs/mlops/lib/python3.9/site-packages/xgboost/core.py:158: UserWarning: [10:20:37] WARNING: /Users/runner/work/xgboost/xgboost/src/learner.cc:740: \n",
      "Parameters: { \"use_label_encoder\" } are not used.\n",
      "\n",
      "  warnings.warn(smsg, UserWarning)\n",
      "/opt/anaconda3/envs/mlops/lib/python3.9/site-packages/mlflow/types/utils.py:406: UserWarning: Hint: Inferred schema contains integer column(s). Integer columns in Python cannot represent missing values. If your input data contains missing values at inference time, it will be encoded as floats and will cause a schema enforcement error. The best way to avoid this problem is to infer the model schema based on a realistic data sample (training dataset) that includes missing values. Alternatively, you can declare integer columns as doubles (float64) whenever these columns may have missing values. See `Handling Integers With Missing Values <https://www.mlflow.org/docs/latest/models.html#handling-integers-with-missing-values>`_ for more details.\n",
      "  warnings.warn(\n",
      "/opt/anaconda3/envs/mlops/lib/python3.9/site-packages/xgboost/core.py:158: UserWarning: [10:20:37] WARNING: /Users/runner/work/xgboost/xgboost/src/c_api/c_api.cc:1374: Saving model in the UBJSON format as default.  You can use file extension: `json`, `ubj` or `deprecated` to choose between formats.\n",
      "  warnings.warn(smsg, UserWarning)\n",
      "/opt/anaconda3/envs/mlops/lib/python3.9/site-packages/xgboost/core.py:158: UserWarning: [10:20:38] WARNING: /Users/runner/work/xgboost/xgboost/src/learner.cc:740: \n",
      "Parameters: { \"use_label_encoder\" } are not used.\n",
      "\n",
      "  warnings.warn(smsg, UserWarning)\n",
      "/opt/anaconda3/envs/mlops/lib/python3.9/site-packages/mlflow/types/utils.py:406: UserWarning: Hint: Inferred schema contains integer column(s). Integer columns in Python cannot represent missing values. If your input data contains missing values at inference time, it will be encoded as floats and will cause a schema enforcement error. The best way to avoid this problem is to infer the model schema based on a realistic data sample (training dataset) that includes missing values. Alternatively, you can declare integer columns as doubles (float64) whenever these columns may have missing values. See `Handling Integers With Missing Values <https://www.mlflow.org/docs/latest/models.html#handling-integers-with-missing-values>`_ for more details.\n",
      "  warnings.warn(\n",
      "/opt/anaconda3/envs/mlops/lib/python3.9/site-packages/xgboost/core.py:158: UserWarning: [10:20:38] WARNING: /Users/runner/work/xgboost/xgboost/src/c_api/c_api.cc:1374: Saving model in the UBJSON format as default.  You can use file extension: `json`, `ubj` or `deprecated` to choose between formats.\n",
      "  warnings.warn(smsg, UserWarning)\n",
      "/opt/anaconda3/envs/mlops/lib/python3.9/site-packages/xgboost/core.py:158: UserWarning: [10:20:39] WARNING: /Users/runner/work/xgboost/xgboost/src/learner.cc:740: \n",
      "Parameters: { \"use_label_encoder\" } are not used.\n",
      "\n",
      "  warnings.warn(smsg, UserWarning)\n",
      "/opt/anaconda3/envs/mlops/lib/python3.9/site-packages/mlflow/types/utils.py:406: UserWarning: Hint: Inferred schema contains integer column(s). Integer columns in Python cannot represent missing values. If your input data contains missing values at inference time, it will be encoded as floats and will cause a schema enforcement error. The best way to avoid this problem is to infer the model schema based on a realistic data sample (training dataset) that includes missing values. Alternatively, you can declare integer columns as doubles (float64) whenever these columns may have missing values. See `Handling Integers With Missing Values <https://www.mlflow.org/docs/latest/models.html#handling-integers-with-missing-values>`_ for more details.\n",
      "  warnings.warn(\n",
      "/opt/anaconda3/envs/mlops/lib/python3.9/site-packages/xgboost/core.py:158: UserWarning: [10:20:39] WARNING: /Users/runner/work/xgboost/xgboost/src/c_api/c_api.cc:1374: Saving model in the UBJSON format as default.  You can use file extension: `json`, `ubj` or `deprecated` to choose between formats.\n",
      "  warnings.warn(smsg, UserWarning)\n",
      "/opt/anaconda3/envs/mlops/lib/python3.9/site-packages/xgboost/core.py:158: UserWarning: [10:20:39] WARNING: /Users/runner/work/xgboost/xgboost/src/learner.cc:740: \n",
      "Parameters: { \"use_label_encoder\" } are not used.\n",
      "\n",
      "  warnings.warn(smsg, UserWarning)\n",
      "/opt/anaconda3/envs/mlops/lib/python3.9/site-packages/mlflow/types/utils.py:406: UserWarning: Hint: Inferred schema contains integer column(s). Integer columns in Python cannot represent missing values. If your input data contains missing values at inference time, it will be encoded as floats and will cause a schema enforcement error. The best way to avoid this problem is to infer the model schema based on a realistic data sample (training dataset) that includes missing values. Alternatively, you can declare integer columns as doubles (float64) whenever these columns may have missing values. See `Handling Integers With Missing Values <https://www.mlflow.org/docs/latest/models.html#handling-integers-with-missing-values>`_ for more details.\n",
      "  warnings.warn(\n",
      "/opt/anaconda3/envs/mlops/lib/python3.9/site-packages/xgboost/core.py:158: UserWarning: [10:20:40] WARNING: /Users/runner/work/xgboost/xgboost/src/c_api/c_api.cc:1374: Saving model in the UBJSON format as default.  You can use file extension: `json`, `ubj` or `deprecated` to choose between formats.\n",
      "  warnings.warn(smsg, UserWarning)\n",
      "/opt/anaconda3/envs/mlops/lib/python3.9/site-packages/xgboost/core.py:158: UserWarning: [10:20:40] WARNING: /Users/runner/work/xgboost/xgboost/src/learner.cc:740: \n",
      "Parameters: { \"use_label_encoder\" } are not used.\n",
      "\n",
      "  warnings.warn(smsg, UserWarning)\n",
      "/opt/anaconda3/envs/mlops/lib/python3.9/site-packages/mlflow/types/utils.py:406: UserWarning: Hint: Inferred schema contains integer column(s). Integer columns in Python cannot represent missing values. If your input data contains missing values at inference time, it will be encoded as floats and will cause a schema enforcement error. The best way to avoid this problem is to infer the model schema based on a realistic data sample (training dataset) that includes missing values. Alternatively, you can declare integer columns as doubles (float64) whenever these columns may have missing values. See `Handling Integers With Missing Values <https://www.mlflow.org/docs/latest/models.html#handling-integers-with-missing-values>`_ for more details.\n",
      "  warnings.warn(\n",
      "/opt/anaconda3/envs/mlops/lib/python3.9/site-packages/xgboost/core.py:158: UserWarning: [10:20:41] WARNING: /Users/runner/work/xgboost/xgboost/src/c_api/c_api.cc:1374: Saving model in the UBJSON format as default.  You can use file extension: `json`, `ubj` or `deprecated` to choose between formats.\n",
      "  warnings.warn(smsg, UserWarning)\n",
      "/opt/anaconda3/envs/mlops/lib/python3.9/site-packages/xgboost/core.py:158: UserWarning: [10:20:41] WARNING: /Users/runner/work/xgboost/xgboost/src/learner.cc:740: \n",
      "Parameters: { \"use_label_encoder\" } are not used.\n",
      "\n",
      "  warnings.warn(smsg, UserWarning)\n",
      "/opt/anaconda3/envs/mlops/lib/python3.9/site-packages/mlflow/types/utils.py:406: UserWarning: Hint: Inferred schema contains integer column(s). Integer columns in Python cannot represent missing values. If your input data contains missing values at inference time, it will be encoded as floats and will cause a schema enforcement error. The best way to avoid this problem is to infer the model schema based on a realistic data sample (training dataset) that includes missing values. Alternatively, you can declare integer columns as doubles (float64) whenever these columns may have missing values. See `Handling Integers With Missing Values <https://www.mlflow.org/docs/latest/models.html#handling-integers-with-missing-values>`_ for more details.\n",
      "  warnings.warn(\n",
      "/opt/anaconda3/envs/mlops/lib/python3.9/site-packages/xgboost/core.py:158: UserWarning: [10:20:42] WARNING: /Users/runner/work/xgboost/xgboost/src/c_api/c_api.cc:1374: Saving model in the UBJSON format as default.  You can use file extension: `json`, `ubj` or `deprecated` to choose between formats.\n",
      "  warnings.warn(smsg, UserWarning)\n",
      "/opt/anaconda3/envs/mlops/lib/python3.9/site-packages/xgboost/core.py:158: UserWarning: [10:20:42] WARNING: /Users/runner/work/xgboost/xgboost/src/learner.cc:740: \n",
      "Parameters: { \"use_label_encoder\" } are not used.\n",
      "\n",
      "  warnings.warn(smsg, UserWarning)\n",
      "/opt/anaconda3/envs/mlops/lib/python3.9/site-packages/mlflow/types/utils.py:406: UserWarning: Hint: Inferred schema contains integer column(s). Integer columns in Python cannot represent missing values. If your input data contains missing values at inference time, it will be encoded as floats and will cause a schema enforcement error. The best way to avoid this problem is to infer the model schema based on a realistic data sample (training dataset) that includes missing values. Alternatively, you can declare integer columns as doubles (float64) whenever these columns may have missing values. See `Handling Integers With Missing Values <https://www.mlflow.org/docs/latest/models.html#handling-integers-with-missing-values>`_ for more details.\n",
      "  warnings.warn(\n",
      "/opt/anaconda3/envs/mlops/lib/python3.9/site-packages/xgboost/core.py:158: UserWarning: [10:20:42] WARNING: /Users/runner/work/xgboost/xgboost/src/c_api/c_api.cc:1374: Saving model in the UBJSON format as default.  You can use file extension: `json`, `ubj` or `deprecated` to choose between formats.\n",
      "  warnings.warn(smsg, UserWarning)\n"
     ]
    },
    {
     "name": "stdout",
     "output_type": "stream",
     "text": [
      "Best XGBoost Model: max_depth=10, learning_rate=0.01, Accuracy: 0.5190\n"
     ]
    }
   ],
   "source": [
    "best_xgb_model = None\n",
    "best_xgb_accuracy = 0\n",
    "best_xgb_params = {}\n",
    "\n",
    "# Define hyperparameter grid\n",
    "xgb_param_grid = {\n",
    "    \"max_depth\": [3, 5, 10],\n",
    "    \"learning_rate\": [0.01, 0.1, 0.2]\n",
    "}\n",
    "\n",
    "# Iterate over hyperparameters\n",
    "for max_depth in xgb_param_grid[\"max_depth\"]:\n",
    "    for learning_rate in xgb_param_grid[\"learning_rate\"]:\n",
    "        with mlflow.start_run():\n",
    "            \n",
    "            # Train XGBoost model\n",
    "            xgb_model = xgb.XGBClassifier(\n",
    "                max_depth=max_depth,\n",
    "                learning_rate=learning_rate,\n",
    "                use_label_encoder=False,\n",
    "                eval_metric=\"logloss\"\n",
    "            )\n",
    "            xgb_model.fit(X_train, y_train)\n",
    "\n",
    "            # Predict and evaluate\n",
    "            y_pred = xgb_model.predict(X_test)\n",
    "            accuracy = accuracy_score(y_test, y_pred)\n",
    "\n",
    "            # Log parameters and metrics\n",
    "            mlflow.log_param(\"model_type\", \"XGBoost\")\n",
    "            mlflow.log_param(\"max_depth\", max_depth)\n",
    "            mlflow.log_param(\"learning_rate\", learning_rate)\n",
    "            mlflow.log_param(\"features\", \", \".join(X_train.columns))\n",
    "            mlflow.log_metric(\"accuracy\", accuracy)\n",
    "\n",
    "            # Log model with signature\n",
    "            input_example = X_test.iloc[:5]\n",
    "            signature = infer_signature(input_example, xgb_model.predict(input_example))\n",
    "\n",
    "            mlflow.xgboost.log_model(\n",
    "                xgb_model,\n",
    "                artifact_path=\"xgboost_model\",\n",
    "                input_example=input_example,\n",
    "                signature=signature\n",
    "            )\n",
    "\n",
    "            # Track best model\n",
    "            if accuracy > best_xgb_accuracy:\n",
    "                best_xgb_accuracy = accuracy\n",
    "                best_xgb_model = xgb_model\n",
    "                best_xgb_params = {\"max_depth\": max_depth, \"learning_rate\": learning_rate}\n",
    "        mlflow.end_run()\n",
    "\n",
    "print(\n",
    "    f\"Best XGBoost Model: max_depth={best_xgb_params['max_depth']}, learning_rate={best_xgb_params['learning_rate']}, Accuracy: {best_xgb_accuracy:.4f}\"\n",
    "    )"
   ]
  },
  {
   "cell_type": "markdown",
   "metadata": {},
   "source": [
    "## Random Forest"
   ]
  },
  {
   "cell_type": "code",
   "execution_count": 16,
   "metadata": {},
   "outputs": [
    {
     "name": "stderr",
     "output_type": "stream",
     "text": [
      "/opt/anaconda3/envs/mlops/lib/python3.9/site-packages/mlflow/types/utils.py:406: UserWarning: Hint: Inferred schema contains integer column(s). Integer columns in Python cannot represent missing values. If your input data contains missing values at inference time, it will be encoded as floats and will cause a schema enforcement error. The best way to avoid this problem is to infer the model schema based on a realistic data sample (training dataset) that includes missing values. Alternatively, you can declare integer columns as doubles (float64) whenever these columns may have missing values. See `Handling Integers With Missing Values <https://www.mlflow.org/docs/latest/models.html#handling-integers-with-missing-values>`_ for more details.\n",
      "  warnings.warn(\n",
      "/opt/anaconda3/envs/mlops/lib/python3.9/site-packages/mlflow/types/utils.py:406: UserWarning: Hint: Inferred schema contains integer column(s). Integer columns in Python cannot represent missing values. If your input data contains missing values at inference time, it will be encoded as floats and will cause a schema enforcement error. The best way to avoid this problem is to infer the model schema based on a realistic data sample (training dataset) that includes missing values. Alternatively, you can declare integer columns as doubles (float64) whenever these columns may have missing values. See `Handling Integers With Missing Values <https://www.mlflow.org/docs/latest/models.html#handling-integers-with-missing-values>`_ for more details.\n",
      "  warnings.warn(\n",
      "/opt/anaconda3/envs/mlops/lib/python3.9/site-packages/mlflow/types/utils.py:406: UserWarning: Hint: Inferred schema contains integer column(s). Integer columns in Python cannot represent missing values. If your input data contains missing values at inference time, it will be encoded as floats and will cause a schema enforcement error. The best way to avoid this problem is to infer the model schema based on a realistic data sample (training dataset) that includes missing values. Alternatively, you can declare integer columns as doubles (float64) whenever these columns may have missing values. See `Handling Integers With Missing Values <https://www.mlflow.org/docs/latest/models.html#handling-integers-with-missing-values>`_ for more details.\n",
      "  warnings.warn(\n",
      "/opt/anaconda3/envs/mlops/lib/python3.9/site-packages/mlflow/types/utils.py:406: UserWarning: Hint: Inferred schema contains integer column(s). Integer columns in Python cannot represent missing values. If your input data contains missing values at inference time, it will be encoded as floats and will cause a schema enforcement error. The best way to avoid this problem is to infer the model schema based on a realistic data sample (training dataset) that includes missing values. Alternatively, you can declare integer columns as doubles (float64) whenever these columns may have missing values. See `Handling Integers With Missing Values <https://www.mlflow.org/docs/latest/models.html#handling-integers-with-missing-values>`_ for more details.\n",
      "  warnings.warn(\n",
      "/opt/anaconda3/envs/mlops/lib/python3.9/site-packages/mlflow/types/utils.py:406: UserWarning: Hint: Inferred schema contains integer column(s). Integer columns in Python cannot represent missing values. If your input data contains missing values at inference time, it will be encoded as floats and will cause a schema enforcement error. The best way to avoid this problem is to infer the model schema based on a realistic data sample (training dataset) that includes missing values. Alternatively, you can declare integer columns as doubles (float64) whenever these columns may have missing values. See `Handling Integers With Missing Values <https://www.mlflow.org/docs/latest/models.html#handling-integers-with-missing-values>`_ for more details.\n",
      "  warnings.warn(\n",
      "/opt/anaconda3/envs/mlops/lib/python3.9/site-packages/mlflow/types/utils.py:406: UserWarning: Hint: Inferred schema contains integer column(s). Integer columns in Python cannot represent missing values. If your input data contains missing values at inference time, it will be encoded as floats and will cause a schema enforcement error. The best way to avoid this problem is to infer the model schema based on a realistic data sample (training dataset) that includes missing values. Alternatively, you can declare integer columns as doubles (float64) whenever these columns may have missing values. See `Handling Integers With Missing Values <https://www.mlflow.org/docs/latest/models.html#handling-integers-with-missing-values>`_ for more details.\n",
      "  warnings.warn(\n",
      "/opt/anaconda3/envs/mlops/lib/python3.9/site-packages/mlflow/types/utils.py:406: UserWarning: Hint: Inferred schema contains integer column(s). Integer columns in Python cannot represent missing values. If your input data contains missing values at inference time, it will be encoded as floats and will cause a schema enforcement error. The best way to avoid this problem is to infer the model schema based on a realistic data sample (training dataset) that includes missing values. Alternatively, you can declare integer columns as doubles (float64) whenever these columns may have missing values. See `Handling Integers With Missing Values <https://www.mlflow.org/docs/latest/models.html#handling-integers-with-missing-values>`_ for more details.\n",
      "  warnings.warn(\n",
      "/opt/anaconda3/envs/mlops/lib/python3.9/site-packages/mlflow/types/utils.py:406: UserWarning: Hint: Inferred schema contains integer column(s). Integer columns in Python cannot represent missing values. If your input data contains missing values at inference time, it will be encoded as floats and will cause a schema enforcement error. The best way to avoid this problem is to infer the model schema based on a realistic data sample (training dataset) that includes missing values. Alternatively, you can declare integer columns as doubles (float64) whenever these columns may have missing values. See `Handling Integers With Missing Values <https://www.mlflow.org/docs/latest/models.html#handling-integers-with-missing-values>`_ for more details.\n",
      "  warnings.warn(\n",
      "/opt/anaconda3/envs/mlops/lib/python3.9/site-packages/mlflow/types/utils.py:406: UserWarning: Hint: Inferred schema contains integer column(s). Integer columns in Python cannot represent missing values. If your input data contains missing values at inference time, it will be encoded as floats and will cause a schema enforcement error. The best way to avoid this problem is to infer the model schema based on a realistic data sample (training dataset) that includes missing values. Alternatively, you can declare integer columns as doubles (float64) whenever these columns may have missing values. See `Handling Integers With Missing Values <https://www.mlflow.org/docs/latest/models.html#handling-integers-with-missing-values>`_ for more details.\n",
      "  warnings.warn(\n"
     ]
    },
    {
     "name": "stdout",
     "output_type": "stream",
     "text": [
      "Best Random Forest Model: n_estimators=50, max_depth=3, Accuracy: 0.5127\n"
     ]
    }
   ],
   "source": [
    "best_rf_model = None\n",
    "best_rf_accuracy = 0\n",
    "best_rf_params = {}\n",
    "\n",
    "# Define hyperparameter grid\n",
    "rf_param_grid = {\n",
    "    \"n_estimators\": [50, 100, 200],\n",
    "    \"max_depth\": [3, 5, 10]\n",
    "}\n",
    "\n",
    "# Iterate over hyperparameters\n",
    "for n_estimators in rf_param_grid[\"n_estimators\"]:\n",
    "    for max_depth in rf_param_grid[\"max_depth\"]:\n",
    "        with mlflow.start_run():\n",
    "            \n",
    "            # Train Random Forest model\n",
    "            rf_model = RandomForestClassifier(n_estimators=n_estimators, max_depth=max_depth, random_state=42)\n",
    "            rf_model.fit(X_train, y_train)\n",
    "\n",
    "            # Predict and evaluate\n",
    "            y_pred = rf_model.predict(X_test)\n",
    "            accuracy = accuracy_score(y_test, y_pred)\n",
    "\n",
    "            # Log parameters and metrics\n",
    "            mlflow.log_param(\"model_type\", \"Random Forest\")\n",
    "            mlflow.log_param(\"n_estimators\", n_estimators)\n",
    "            mlflow.log_param(\"max_depth\", max_depth)\n",
    "            mlflow.log_param(\"features\", \", \".join(X_train.columns))\n",
    "            mlflow.log_metric(\"accuracy\", accuracy)\n",
    "\n",
    "            # Log model with signature\n",
    "            input_example = X_test.iloc[:5]\n",
    "            signature = infer_signature(input_example, rf_model.predict(input_example))\n",
    "\n",
    "            mlflow.sklearn.log_model(\n",
    "                sk_model=rf_model,\n",
    "                artifact_path=\"random_forest_model\",\n",
    "                input_example=input_example,\n",
    "                signature=signature\n",
    "            )\n",
    "\n",
    "            # Track best model\n",
    "            if accuracy > best_rf_accuracy:\n",
    "                best_rf_accuracy = accuracy\n",
    "                best_rf_model = rf_model\n",
    "                best_rf_params = {\"n_estimators\": n_estimators, \"max_depth\": max_depth}\n",
    "        mlflow.end_run()\n",
    "print(\n",
    "    f\"Best Random Forest Model: n_estimators={best_rf_params['n_estimators']}, max_depth={best_rf_params['max_depth']}, Accuracy: {best_rf_accuracy:.4f}\"\n",
    "    )"
   ]
  },
  {
   "cell_type": "markdown",
   "metadata": {},
   "source": [
    "## Feature Importance"
   ]
  },
  {
   "cell_type": "code",
   "execution_count": 17,
   "metadata": {},
   "outputs": [
    {
     "data": {
      "image/png": "[encoded data removed]",
      "text/plain": [
       "<Figure size 800x500 with 1 Axes>"
      ]
     },
     "metadata": {},
     "output_type": "display_data"
    }
   ],
   "source": [
    "# Extract feature importances\n",
    "feature_importance = pd.DataFrame({\n",
    "    'Feature': X_train.columns,\n",
    "    'Importance': best_rf_model.feature_importances_\n",
    "}).sort_values(by='Importance', ascending=False)\n",
    "\n",
    "# Plot feature importance\n",
    "plt.figure(figsize=(8, 5))\n",
    "plt.barh(feature_importance['Feature'], feature_importance['Importance'], color='skyblue')\n",
    "plt.xlabel(\"Feature Importance\")\n",
    "plt.title(\"Random Forest Feature Importance\")\n",
    "plt.gca().invert_yaxis() \n",
    "plt.grid(True, linestyle='--', alpha=0.5)\n",
    "plt.tight_layout()\n",
    "plt.show()"
   ]
  },
  {
   "cell_type": "code",
   "execution_count": 18,
   "metadata": {},
   "outputs": [],
   "source": [
    "# Keep only the most important features\n",
    "selected_features = [\"price_change\", \"diff\", \"adj_close\", \"close_14_avg\"]\n",
    "\n",
    "# Update X_train and X_test\n",
    "X_train_selected = X_train[selected_features]\n",
    "X_test_selected = X_test[selected_features]\n"
   ]
  },
  {
   "cell_type": "markdown",
   "metadata": {},
   "source": [
    "## Retrain all the models\n",
    "### Logistic Regression"
   ]
  },
  {
   "cell_type": "code",
   "execution_count": 19,
   "metadata": {},
   "outputs": [
    {
     "name": "stdout",
     "output_type": "stream",
     "text": [
      "\n",
      "Best C: 0.001 with Accuracy: 0.5190\n"
     ]
    }
   ],
   "source": [
    "# Hyperparameter Tunning\n",
    "\n",
    "best_logistic_model_selected = None\n",
    "best_c = None\n",
    "best_logistic_accuracy = 0\n",
    "\n",
    "C_val = [0.001, 0.01, 0.1, 1, 10, 100]\n",
    "\n",
    "for c in C_val:\n",
    "    with mlflow.start_run():\n",
    "    \n",
    "        # Train Logistic Regression Model\n",
    "        model = LogisticRegression(C=c, solver='lbfgs', max_iter=1000)\n",
    "        model.fit(X_train_selected, y_train)\n",
    "        \n",
    "        # Make Predictions\n",
    "        y_pred = model.predict(X_test_selected)\n",
    "\n",
    "        # Evaluate Accuracy\n",
    "        accuracy = accuracy_score(y_test, y_pred)\n",
    "\n",
    "        # Log Parameters\n",
    "        mlflow.log_param(\"model_type\", \"Logistic Regression\")\n",
    "        mlflow.log_param(\"C\", c)\n",
    "        mlflow.log_param(\"features\", \", \".join(X_train_selected.columns))\n",
    "\n",
    "        # Log Metrics\n",
    "        mlflow.log_metric(\"accuracy\", accuracy)\n",
    "        \n",
    "        # Log Model with signature\n",
    "        input_example = X_test_selected.iloc[:5]\n",
    "        signature = infer_signature(input_example, model.predict(input_example))\n",
    "\n",
    "        # Log Model\n",
    "        mlflow.sklearn.log_model(\n",
    "            sk_model=model, \n",
    "            artifact_path=\"logistic_regression_model\", \n",
    "            input_example=input_example,\n",
    "            signature=signature\n",
    "        )\n",
    "        \n",
    "        if accuracy > best_logistic_accuracy:\n",
    "            best_logistic_accuracy = accuracy\n",
    "            best_logistic_model_selected = model\n",
    "            best_C = c\n",
    "    mlflow.end_run()\n",
    "\n",
    "print(f\"\\nBest C: {best_C} with Accuracy: {best_logistic_accuracy:.4f}\")"
   ]
  },
  {
   "cell_type": "markdown",
   "metadata": {},
   "source": [
    "### XGBoost"
   ]
  },
  {
   "cell_type": "code",
   "execution_count": 20,
   "metadata": {},
   "outputs": [
    {
     "name": "stderr",
     "output_type": "stream",
     "text": [
      "/opt/anaconda3/envs/mlops/lib/python3.9/site-packages/xgboost/core.py:158: UserWarning: [10:20:57] WARNING: /Users/runner/work/xgboost/xgboost/src/learner.cc:740: \n",
      "Parameters: { \"use_label_encoder\" } are not used.\n",
      "\n",
      "  warnings.warn(smsg, UserWarning)\n",
      "/opt/anaconda3/envs/mlops/lib/python3.9/site-packages/xgboost/core.py:158: UserWarning: [10:20:57] WARNING: /Users/runner/work/xgboost/xgboost/src/c_api/c_api.cc:1374: Saving model in the UBJSON format as default.  You can use file extension: `json`, `ubj` or `deprecated` to choose between formats.\n",
      "  warnings.warn(smsg, UserWarning)\n",
      "/opt/anaconda3/envs/mlops/lib/python3.9/site-packages/xgboost/core.py:158: UserWarning: [10:20:58] WARNING: /Users/runner/work/xgboost/xgboost/src/learner.cc:740: \n",
      "Parameters: { \"use_label_encoder\" } are not used.\n",
      "\n",
      "  warnings.warn(smsg, UserWarning)\n",
      "/opt/anaconda3/envs/mlops/lib/python3.9/site-packages/xgboost/core.py:158: UserWarning: [10:20:58] WARNING: /Users/runner/work/xgboost/xgboost/src/c_api/c_api.cc:1374: Saving model in the UBJSON format as default.  You can use file extension: `json`, `ubj` or `deprecated` to choose between formats.\n",
      "  warnings.warn(smsg, UserWarning)\n",
      "/opt/anaconda3/envs/mlops/lib/python3.9/site-packages/xgboost/core.py:158: UserWarning: [10:20:59] WARNING: /Users/runner/work/xgboost/xgboost/src/learner.cc:740: \n",
      "Parameters: { \"use_label_encoder\" } are not used.\n",
      "\n",
      "  warnings.warn(smsg, UserWarning)\n",
      "/opt/anaconda3/envs/mlops/lib/python3.9/site-packages/xgboost/core.py:158: UserWarning: [10:20:59] WARNING: /Users/runner/work/xgboost/xgboost/src/c_api/c_api.cc:1374: Saving model in the UBJSON format as default.  You can use file extension: `json`, `ubj` or `deprecated` to choose between formats.\n",
      "  warnings.warn(smsg, UserWarning)\n",
      "/opt/anaconda3/envs/mlops/lib/python3.9/site-packages/xgboost/core.py:158: UserWarning: [10:21:00] WARNING: /Users/runner/work/xgboost/xgboost/src/learner.cc:740: \n",
      "Parameters: { \"use_label_encoder\" } are not used.\n",
      "\n",
      "  warnings.warn(smsg, UserWarning)\n",
      "/opt/anaconda3/envs/mlops/lib/python3.9/site-packages/xgboost/core.py:158: UserWarning: [10:21:00] WARNING: /Users/runner/work/xgboost/xgboost/src/c_api/c_api.cc:1374: Saving model in the UBJSON format as default.  You can use file extension: `json`, `ubj` or `deprecated` to choose between formats.\n",
      "  warnings.warn(smsg, UserWarning)\n",
      "/opt/anaconda3/envs/mlops/lib/python3.9/site-packages/xgboost/core.py:158: UserWarning: [10:21:01] WARNING: /Users/runner/work/xgboost/xgboost/src/learner.cc:740: \n",
      "Parameters: { \"use_label_encoder\" } are not used.\n",
      "\n",
      "  warnings.warn(smsg, UserWarning)\n",
      "/opt/anaconda3/envs/mlops/lib/python3.9/site-packages/xgboost/core.py:158: UserWarning: [10:21:01] WARNING: /Users/runner/work/xgboost/xgboost/src/c_api/c_api.cc:1374: Saving model in the UBJSON format as default.  You can use file extension: `json`, `ubj` or `deprecated` to choose between formats.\n",
      "  warnings.warn(smsg, UserWarning)\n",
      "/opt/anaconda3/envs/mlops/lib/python3.9/site-packages/xgboost/core.py:158: UserWarning: [10:21:01] WARNING: /Users/runner/work/xgboost/xgboost/src/learner.cc:740: \n",
      "Parameters: { \"use_label_encoder\" } are not used.\n",
      "\n",
      "  warnings.warn(smsg, UserWarning)\n",
      "/opt/anaconda3/envs/mlops/lib/python3.9/site-packages/xgboost/core.py:158: UserWarning: [10:21:02] WARNING: /Users/runner/work/xgboost/xgboost/src/c_api/c_api.cc:1374: Saving model in the UBJSON format as default.  You can use file extension: `json`, `ubj` or `deprecated` to choose between formats.\n",
      "  warnings.warn(smsg, UserWarning)\n",
      "/opt/anaconda3/envs/mlops/lib/python3.9/site-packages/xgboost/core.py:158: UserWarning: [10:21:02] WARNING: /Users/runner/work/xgboost/xgboost/src/learner.cc:740: \n",
      "Parameters: { \"use_label_encoder\" } are not used.\n",
      "\n",
      "  warnings.warn(smsg, UserWarning)\n",
      "/opt/anaconda3/envs/mlops/lib/python3.9/site-packages/xgboost/core.py:158: UserWarning: [10:21:03] WARNING: /Users/runner/work/xgboost/xgboost/src/c_api/c_api.cc:1374: Saving model in the UBJSON format as default.  You can use file extension: `json`, `ubj` or `deprecated` to choose between formats.\n",
      "  warnings.warn(smsg, UserWarning)\n",
      "/opt/anaconda3/envs/mlops/lib/python3.9/site-packages/xgboost/core.py:158: UserWarning: [10:21:03] WARNING: /Users/runner/work/xgboost/xgboost/src/learner.cc:740: \n",
      "Parameters: { \"use_label_encoder\" } are not used.\n",
      "\n",
      "  warnings.warn(smsg, UserWarning)\n",
      "/opt/anaconda3/envs/mlops/lib/python3.9/site-packages/xgboost/core.py:158: UserWarning: [10:21:03] WARNING: /Users/runner/work/xgboost/xgboost/src/c_api/c_api.cc:1374: Saving model in the UBJSON format as default.  You can use file extension: `json`, `ubj` or `deprecated` to choose between formats.\n",
      "  warnings.warn(smsg, UserWarning)\n",
      "/opt/anaconda3/envs/mlops/lib/python3.9/site-packages/xgboost/core.py:158: UserWarning: [10:21:04] WARNING: /Users/runner/work/xgboost/xgboost/src/learner.cc:740: \n",
      "Parameters: { \"use_label_encoder\" } are not used.\n",
      "\n",
      "  warnings.warn(smsg, UserWarning)\n",
      "/opt/anaconda3/envs/mlops/lib/python3.9/site-packages/xgboost/core.py:158: UserWarning: [10:21:04] WARNING: /Users/runner/work/xgboost/xgboost/src/c_api/c_api.cc:1374: Saving model in the UBJSON format as default.  You can use file extension: `json`, `ubj` or `deprecated` to choose between formats.\n",
      "  warnings.warn(smsg, UserWarning)\n"
     ]
    },
    {
     "name": "stdout",
     "output_type": "stream",
     "text": [
      "Best XGBoost Model: max_depth=3, learning_rate=0.01, Accuracy: 0.5174\n"
     ]
    }
   ],
   "source": [
    "best_xgb_model_selected = None\n",
    "best_xgb_accuracy = 0\n",
    "best_xgb_params = {}\n",
    "\n",
    "# Define hyperparameter grid\n",
    "xgb_param_grid = {\n",
    "    \"max_depth\": [3, 5, 10],\n",
    "    \"learning_rate\": [0.01, 0.1, 0.2]\n",
    "}\n",
    "\n",
    "# Iterate over hyperparameters\n",
    "for max_depth in xgb_param_grid[\"max_depth\"]:\n",
    "    for learning_rate in xgb_param_grid[\"learning_rate\"]:\n",
    "        with mlflow.start_run():\n",
    "            \n",
    "            # Train XGBoost model\n",
    "            xgb_model = xgb.XGBClassifier(\n",
    "                max_depth=max_depth,\n",
    "                learning_rate=learning_rate,\n",
    "                use_label_encoder=False,\n",
    "                eval_metric=\"logloss\"\n",
    "            )\n",
    "            xgb_model.fit(X_train_selected, y_train)\n",
    "\n",
    "            # Predict and evaluate\n",
    "            y_pred = xgb_model.predict(X_test_selected)\n",
    "            accuracy = accuracy_score(y_test, y_pred)\n",
    "\n",
    "            # Log parameters and metrics\n",
    "            mlflow.log_param(\"model_type\", \"XGBoost\")\n",
    "            mlflow.log_param(\"max_depth\", max_depth)\n",
    "            mlflow.log_param(\"learning_rate\", learning_rate)\n",
    "            mlflow.log_param(\"features\", \", \".join(X_train_selected.columns))\n",
    "            mlflow.log_metric(\"accuracy\", accuracy)\n",
    "\n",
    "            # Log model with signature\n",
    "            input_example = X_test_selected.iloc[:5]\n",
    "            signature = infer_signature(input_example, xgb_model.predict(input_example))\n",
    "\n",
    "            mlflow.xgboost.log_model(\n",
    "                xgb_model,\n",
    "                artifact_path=\"xgboost_model\",\n",
    "                input_example=input_example,\n",
    "                signature=signature\n",
    "            )\n",
    "\n",
    "            # Track best model\n",
    "            if accuracy > best_xgb_accuracy:\n",
    "                best_xgb_accuracy = accuracy\n",
    "                best_xgb_model_selected = xgb_model\n",
    "                best_xgb_params = {\"max_depth\": max_depth, \"learning_rate\": learning_rate}\n",
    "\n",
    "        mlflow.end_run()\n",
    "print(\n",
    "    f\"Best XGBoost Model: max_depth={best_xgb_params['max_depth']}, learning_rate={best_xgb_params['learning_rate']}, Accuracy: {best_xgb_accuracy:.4f}\"\n",
    "    )"
   ]
  },
  {
   "cell_type": "markdown",
   "metadata": {},
   "source": [
    "### Random Forest"
   ]
  },
  {
   "cell_type": "code",
   "execution_count": 21,
   "metadata": {},
   "outputs": [
    {
     "name": "stdout",
     "output_type": "stream",
     "text": [
      "Best Random Forest Model: n_estimators=200, max_depth=3, Accuracy: 0.5127\n"
     ]
    }
   ],
   "source": [
    "best_rf_model_selected = None\n",
    "best_rf_accuracy = 0\n",
    "best_rf_params = {}\n",
    "\n",
    "# Define hyperparameter grid\n",
    "rf_param_grid = {\n",
    "    \"n_estimators\": [50, 100, 200],\n",
    "    \"max_depth\": [3, 5, 10]\n",
    "}\n",
    "\n",
    "# Iterate over hyperparameters\n",
    "for n_estimators in rf_param_grid[\"n_estimators\"]:\n",
    "    for max_depth in rf_param_grid[\"max_depth\"]:\n",
    "        with mlflow.start_run():\n",
    "            \n",
    "            # Train Random Forest model\n",
    "            rf_model = RandomForestClassifier(n_estimators=n_estimators, max_depth=max_depth, random_state=42)\n",
    "            rf_model.fit(X_train_selected, y_train)\n",
    "\n",
    "            # Predict and evaluate\n",
    "            y_pred = rf_model.predict(X_test_selected)\n",
    "            accuracy = accuracy_score(y_test, y_pred)\n",
    "\n",
    "            # Log parameters and metrics\n",
    "            mlflow.log_param(\"model_type\", \"Random Forest\")\n",
    "            mlflow.log_param(\"n_estimators\", n_estimators)\n",
    "            mlflow.log_param(\"max_depth\", max_depth)\n",
    "            mlflow.log_param(\"features\", \", \".join(X_train_selected.columns))\n",
    "            mlflow.log_metric(\"accuracy\", accuracy)\n",
    "\n",
    "            # Log model with signature\n",
    "            input_example = X_test_selected.iloc[:5]\n",
    "            signature = infer_signature(input_example, rf_model.predict(input_example))\n",
    "\n",
    "            mlflow.sklearn.log_model(\n",
    "                sk_model=rf_model,\n",
    "                artifact_path=\"random_forest_model\",\n",
    "                input_example=input_example,\n",
    "                signature=signature\n",
    "            )\n",
    "\n",
    "            # Track best model\n",
    "            if accuracy > best_rf_accuracy:\n",
    "                best_rf_accuracy = accuracy\n",
    "                best_rf_model_selected = rf_model\n",
    "                best_rf_params = {\"n_estimators\": n_estimators, \"max_depth\": max_depth}\n",
    "        mlflow.end_run()\n",
    "print(\n",
    "    f\"Best Random Forest Model: n_estimators={best_rf_params['n_estimators']}, max_depth={best_rf_params['max_depth']}, Accuracy: {best_rf_accuracy:.4f}\"\n",
    "    )"
   ]
  },
  {
   "cell_type": "markdown",
   "metadata": {},
   "source": [
    "## Find the best 3 models in MLflow"
   ]
  },
  {
   "cell_type": "code",
   "execution_count": null,
   "metadata": {},
   "outputs": [
    {
     "data": {
      "text/html": [
       "<div>\n",
       "<style scoped>\n",
       "    .dataframe tbody tr th:only-of-type {\n",
       "        vertical-align: middle;\n",
       "    }\n",
       "\n",
       "    .dataframe tbody tr th {\n",
       "        vertical-align: top;\n",
       "    }\n",
       "\n",
       "    .dataframe thead th {\n",
       "        text-align: right;\n",
       "    }\n",
       "</style>\n",
       "<table border=\"1\" class=\"dataframe\">\n",
       "  <thead>\n",
       "    <tr style=\"text-align: right;\">\n",
       "      <th></th>\n",
       "      <th>run_id</th>\n",
       "      <th>params.model_type</th>\n",
       "      <th>params.features</th>\n",
       "      <th>params.C</th>\n",
       "      <th>params.max_depth</th>\n",
       "      <th>params.learning_rate</th>\n",
       "      <th>metrics.accuracy</th>\n",
       "    </tr>\n",
       "  </thead>\n",
       "  <tbody>\n",
       "    <tr>\n",
       "      <th>23</th>\n",
       "      <td>6e004c1a6b6d4543b93c02faa0465b62</td>\n",
       "      <td>Logistic Regression</td>\n",
       "      <td>price_change, diff, adj_close, close_14_avg</td>\n",
       "      <td>0.001</td>\n",
       "      <td>None</td>\n",
       "      <td>None</td>\n",
       "      <td>0.519017</td>\n",
       "    </tr>\n",
       "    <tr>\n",
       "      <th>35</th>\n",
       "      <td>5bfa2fbb66754d449adfbf715d9e80cc</td>\n",
       "      <td>XGBoost</td>\n",
       "      <td>open, high, low, close, adj_close, volume, pri...</td>\n",
       "      <td>None</td>\n",
       "      <td>10</td>\n",
       "      <td>0.01</td>\n",
       "      <td>0.519017</td>\n",
       "    </tr>\n",
       "    <tr>\n",
       "      <th>17</th>\n",
       "      <td>4d2666e52f574203b418d8d97d8acbe6</td>\n",
       "      <td>XGBoost</td>\n",
       "      <td>price_change, diff, adj_close, close_14_avg</td>\n",
       "      <td>None</td>\n",
       "      <td>3</td>\n",
       "      <td>0.01</td>\n",
       "      <td>0.517433</td>\n",
       "    </tr>\n",
       "  </tbody>\n",
       "</table>\n",
       "</div>"
      ],
      "text/plain": [
       "                              run_id    params.model_type  \\\n",
       "23  6e004c1a6b6d4543b93c02faa0465b62  Logistic Regression   \n",
       "35  5bfa2fbb66754d449adfbf715d9e80cc              XGBoost   \n",
       "17  4d2666e52f574203b418d8d97d8acbe6              XGBoost   \n",
       "\n",
       "                                      params.features params.C  \\\n",
       "23        price_change, diff, adj_close, close_14_avg    0.001   \n",
       "35  open, high, low, close, adj_close, volume, pri...     None   \n",
       "17        price_change, diff, adj_close, close_14_avg     None   \n",
       "\n",
       "   params.max_depth params.learning_rate  metrics.accuracy  \n",
       "23             None                 None          0.519017  \n",
       "35               10                 0.01          0.519017  \n",
       "17                3                 0.01          0.517433  "
      ]
     },
     "execution_count": 24,
     "metadata": {},
     "output_type": "execute_result"
    }
   ],
   "source": [
    "# Get all runs from the MLflow experiment\n",
    "experiment = mlflow.get_experiment_by_name(\"Amazon_stock_analysis\")  \n",
    "experiment_id = experiment.experiment_id\n",
    "\n",
    "# Get the runs as a DataFrame\n",
    "model_runs = mlflow.search_runs(experiment_ids=[experiment_id])\n",
    "\n",
    "# Select relevant columns\n",
    "model_runs = model_runs[[\"run_id\", \"params.model_type\", \"params.features\", \"params.C\", \"params.max_depth\", \"params.learning_rate\", \"metrics.accuracy\"]]\n",
    "\n",
    "# Sort by accuracy in descending order\n",
    "model_runs = model_runs.sort_values(by=\"metrics.accuracy\", ascending=False)\n",
    "\n",
    "model_runs[:3]"
   ]
  },
  {
   "cell_type": "markdown",
   "metadata": {},
   "source": [
    "According to MLflow, the top 3 models were:\n",
    "- Logistic Regression (C=0.001) with reduced X_train\n",
    "- XGBoost (max_depth=10, learning_rate=0.01) with X_train\n",
    "- XGBoost (max_depth=3, learning_rate=0.01) witj reduced_X_train\n",
    "\n",
    "The accuracy schore also showed that the the two model has the same accuracy score. The top 1 use reduced features, but the second best model used all features. So I will choose the top model as the best model to use on future data"
   ]
  },
  {
   "cell_type": "markdown",
   "metadata": {},
   "source": [
    "## Load the best model"
   ]
  },
  {
   "cell_type": "code",
   "execution_count": 27,
   "metadata": {},
   "outputs": [],
   "source": [
    "# Use the first model as the best run\n",
    "logged_model_uri = 'runs:/6e004c1a6b6d4543b93c02faa0465b62/logistic_regression_model'\n",
    "best_model = mlflow.sklearn.load_model(logged_model_uri)"
   ]
  },
  {
   "cell_type": "code",
   "execution_count": null,
   "metadata": {},
   "outputs": [
    {
     "name": "stdout",
     "output_type": "stream",
     "text": [
      "Test accuracy: 0.5190\n"
     ]
    }
   ],
   "source": [
    "# Make prediction on the best model\n",
    "y_pred = best_model.predict(X_test_selected)\n",
    "final_acc = accuracy_score(y_test, y_pred)\n",
    "\n",
    "print(f\"Test accuracy: {final_acc:.4f}\")"
   ]
  },
  {
   "cell_type": "code",
   "execution_count": 29,
   "metadata": {},
   "outputs": [
    {
     "data": {
      "text/plain": [
       "array([0, 1, 1, 1, 1])"
      ]
     },
     "execution_count": 29,
     "metadata": {},
     "output_type": "execute_result"
    }
   ],
   "source": [
    "y_pred[:5]"
   ]
  },
  {
   "cell_type": "code",
   "execution_count": null,
   "metadata": {},
   "outputs": [],
   "source": []
  }
 ],
 "metadata": {
  "kernelspec": {
   "display_name": "mlops",
   "language": "python",
   "name": "python3"
  },
  "language_info": {
   "codemirror_mode": {
    "name": "ipython",
    "version": 3
   },
   "file_extension": ".py",
   "mimetype": "text/x-python",
   "name": "python",
   "nbconvert_exporter": "python",
   "pygments_lexer": "ipython3",
   "version": "3.9.21"
  }
 },
 "nbformat": 4,
 "nbformat_minor": 2
}
